{
 "cells": [
  {
   "cell_type": "code",
   "execution_count": 1,
   "id": "f283eccb-b044-415d-9571-e7829685848b",
   "metadata": {},
   "outputs": [],
   "source": [
    "from scipy.io import loadmat\n",
    "from sklearn.ensemble import RandomForestRegressor\n",
    "from sklearn import linear_model\n",
    "from sklearn.neural_network import MLPRegressor\n",
    "from matplotlib import pyplot as plt \n",
    "from sklearn import metrics\n",
    "import matplotlib\n",
    "import numpy as np\n",
    "from sklearn.model_selection import train_test_split\n",
    "from sklearn.inspection import permutation_importance\n",
    "%matplotlib inline  "
   ]
  },
  {
   "cell_type": "code",
   "execution_count": 5,
   "id": "72bfdc25-6ffc-4a99-bd95-e28857cf6bd9",
   "metadata": {},
   "outputs": [
    {
     "name": "stdout",
     "output_type": "stream",
     "text": [
      "i = 1r2_train = 0.6676264563523333, r2_val = 0.606094248082811\n",
      "i = 2r2_train = 0.6049333634403501, r2_val = 0.5925768876351298\n",
      "i = 3r2_train = 0.5500572020997565, r2_val = 0.5596164896306833\n",
      "i = 4r2_train = 0.7048917461731405, r2_val = 0.5869966913104556\n",
      "i = 5r2_train = 0.7174845759238546, r2_val = 0.6090601289098266\n",
      "i = 6r2_train = 0.6119581486099753, r2_val = 0.5326316227961091\n",
      "i = 7r2_train = 0.6512194776936444, r2_val = 0.48199741843705024\n",
      "i = 8r2_train = 0.6289300656536884, r2_val = 0.6137588579700041\n",
      "i = 9r2_train = 0.6540935455195706, r2_val = 0.5862031198922033\n",
      "i = 10r2_train = 0.7505809823440759, r2_val = 0.5894260665034498\n",
      "i = 11r2_train = 0.7023642651146956, r2_val = 0.5143550898144037\n",
      "i = 12r2_train = 0.7854612763998546, r2_val = 0.4718309902641355\n",
      "i = 13r2_train = 0.6051980766897652, r2_val = 0.5030999654739384\n",
      "i = 14r2_train = 0.523253690890436, r2_val = 0.460163791918155\n",
      "i = 15r2_train = 0.67908159364013, r2_val = 0.5500946707677954\n",
      "i = 16r2_train = 0.5272700694404332, r2_val = 0.5071172219098687\n"
     ]
    }
   ],
   "source": [
    "data = np.empty((16,7))\n",
    "for i in range(16):\n",
    "    x = loadmat('train' + str(i+1) + '.mat')['sX']\n",
    "    y = loadmat('train' + str(i+1) + '.mat')['sy'].ravel()\n",
    "    x = x[:,:5]\n",
    "    xtrain, xval, ytrain, yval = train_test_split(x, y, random_state=42)\n",
    "    rf = RandomForestRegressor(max_depth=3, random_state=1)\n",
    "    rf.fit(xtrain,ytrain)\n",
    "    \n",
    "    ypred    = rf.predict(xval)\n",
    "    data[i,1]   = np.sqrt(metrics.r2_score(yval, ypred))\n",
    "    ypred    = rf.predict(xtrain)\n",
    "    data[i,0] = np.sqrt(metrics.r2_score(ytrain, ypred))\n",
    "    print('i = ' + str(i+1) + 'r2_train = ' + str(data[i,0]) + ', r2_val = ' + str(data[i,1]));\n",
    "    data[i,2:] = rf.feature_importances_\n",
    "\n",
    "np.savetxt('rf_region.dat',data)"
   ]
  },
  {
   "cell_type": "code",
   "execution_count": 6,
   "id": "e81ce4c8-5248-4fcd-a268-e6cf21bb1247",
   "metadata": {},
   "outputs": [
    {
     "name": "stdout",
     "output_type": "stream",
     "text": [
      "GLOBAL: r2_train = 0.7695909763702897, r2_val = 0.6662464473729601\n"
     ]
    }
   ],
   "source": [
    "data = np.empty((7,))\n",
    "\n",
    "x = loadmat('train.mat')['X']\n",
    "y = loadmat('train.mat')['y'].ravel()\n",
    "x = x[:,:5]\n",
    "xtrain, xval, ytrain, yval = train_test_split(x, y, random_state=42)\n",
    "rf = RandomForestRegressor(max_depth=10, random_state=1)\n",
    "rf.fit(xtrain,ytrain)\n",
    "\n",
    "ypred    = rf.predict(xval)\n",
    "data[1]   = np.sqrt(metrics.r2_score(yval, ypred))\n",
    "ypred    = rf.predict(xtrain)\n",
    "data[0] = np.sqrt(metrics.r2_score(ytrain, ypred))\n",
    "print('GLOBAL: r2_train = ' + str(data[0]) + ', r2_val = ' + str(data[1]));\n",
    "data[2:] = rf.feature_importances_\n",
    "\n",
    "np.savetxt('rf_global.dat',data)"
   ]
  },
  {
   "cell_type": "code",
   "execution_count": null,
   "id": "b6ec3779-3c59-4366-a15c-1baa216e304b",
   "metadata": {},
   "outputs": [],
   "source": []
  }
 ],
 "metadata": {
  "kernelspec": {
   "display_name": "Python 3 (ipykernel)",
   "language": "python",
   "name": "python3"
  },
  "language_info": {
   "codemirror_mode": {
    "name": "ipython",
    "version": 3
   },
   "file_extension": ".py",
   "mimetype": "text/x-python",
   "name": "python",
   "nbconvert_exporter": "python",
   "pygments_lexer": "ipython3",
   "version": "3.9.6"
  }
 },
 "nbformat": 4,
 "nbformat_minor": 5
}
