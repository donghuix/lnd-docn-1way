{
 "cells": [
  {
   "cell_type": "code",
   "execution_count": 1,
   "id": "f283eccb-b044-415d-9571-e7829685848b",
   "metadata": {},
   "outputs": [],
   "source": [
    "from scipy.io import loadmat\n",
    "from sklearn.ensemble import RandomForestRegressor\n",
    "from sklearn import linear_model\n",
    "from sklearn.neural_network import MLPRegressor\n",
    "from matplotlib import pyplot as plt \n",
    "from sklearn import metrics\n",
    "import matplotlib\n",
    "import numpy as np\n",
    "from sklearn.model_selection import train_test_split\n",
    "from sklearn.inspection import permutation_importance\n",
    "%matplotlib inline  "
   ]
  },
  {
   "cell_type": "code",
   "execution_count": 2,
   "id": "72bfdc25-6ffc-4a99-bd95-e28857cf6bd9",
   "metadata": {},
   "outputs": [
    {
     "name": "stdout",
     "output_type": "stream",
     "text": [
      "i = 1r2_train = 0.6651624297900536, r2_val = 0.6061975091338725\n",
      "i = 2r2_train = 0.6083756764331144, r2_val = 0.6065186014994316\n",
      "i = 3r2_train = 0.5494222535497056, r2_val = 0.5575133130504665\n",
      "i = 4r2_train = 0.6952573363202542, r2_val = 0.5657741273151896\n",
      "i = 5r2_train = 0.7134394271990008, r2_val = 0.6106572926773804\n",
      "i = 6r2_train = 0.6059947678601131, r2_val = 0.5316674120447719\n",
      "i = 7r2_train = 0.6425279284423139, r2_val = 0.47208672966624055\n",
      "i = 8r2_train = 0.6288738318284022, r2_val = 0.6141426670949285\n",
      "i = 9r2_train = 0.6540280874335638, r2_val = 0.5862076149444259\n",
      "i = 10r2_train = 0.7269846918112695, r2_val = 0.5915170767297039\n",
      "i = 11r2_train = 0.6959463769052937, r2_val = 0.5364343571993425\n",
      "i = 12r2_train = 0.7445598247320481, r2_val = 0.5061662529470373\n",
      "i = 13r2_train = 0.5965168461569434, r2_val = 0.506695338079008\n",
      "i = 14r2_train = 0.5248242352894993, r2_val = 0.46060205097886403\n",
      "i = 15r2_train = 0.6795913518029485, r2_val = 0.5359498940356796\n",
      "i = 16r2_train = 0.5250340504534531, r2_val = 0.5061208121592282\n"
     ]
    }
   ],
   "source": [
    "data = np.empty((16,6))\n",
    "for i in range(16):\n",
    "    x = loadmat('train' + str(i+1) + '.mat')['sX']\n",
    "    y = loadmat('train' + str(i+1) + '.mat')['sy'].ravel()\n",
    "    x = x[:,:4]\n",
    "    xtrain, xval, ytrain, yval = train_test_split(x, y, random_state=42)\n",
    "    rf = RandomForestRegressor(max_depth=3, random_state=1)\n",
    "    rf.fit(xtrain,ytrain)\n",
    "    \n",
    "    ypred    = rf.predict(xval)\n",
    "    data[i,1]   = np.sqrt(metrics.r2_score(yval, ypred))\n",
    "    ypred    = rf.predict(xtrain)\n",
    "    data[i,0] = np.sqrt(metrics.r2_score(ytrain, ypred))\n",
    "    print('i = ' + str(i+1) + 'r2_train = ' + str(data[i,0]) + ', r2_val = ' + str(data[i,1]));\n",
    "    data[i,2:] = rf.feature_importances_\n",
    "\n",
    "np.savetxt('rf_region.dat',data)"
   ]
  },
  {
   "cell_type": "code",
   "execution_count": 3,
   "id": "e81ce4c8-5248-4fcd-a268-e6cf21bb1247",
   "metadata": {},
   "outputs": [
    {
     "name": "stdout",
     "output_type": "stream",
     "text": [
      "GLOBAL: r2_train = 0.7655508795719665, r2_val = 0.6566988655914558\n"
     ]
    }
   ],
   "source": [
    "data = np.empty((6,))\n",
    "\n",
    "x = loadmat('train.mat')['X']\n",
    "y = loadmat('train.mat')['y'].ravel()\n",
    "x = x[:,:4]\n",
    "xtrain, xval, ytrain, yval = train_test_split(x, y, random_state=42)\n",
    "rf = RandomForestRegressor(max_depth=10, random_state=1)\n",
    "rf.fit(xtrain,ytrain)\n",
    "\n",
    "ypred    = rf.predict(xval)\n",
    "data[1]   = np.sqrt(metrics.r2_score(yval, ypred))\n",
    "ypred    = rf.predict(xtrain)\n",
    "data[0] = np.sqrt(metrics.r2_score(ytrain, ypred))\n",
    "print('GLOBAL: r2_train = ' + str(data[0]) + ', r2_val = ' + str(data[1]));\n",
    "data[2:] = rf.feature_importances_\n",
    "\n",
    "np.savetxt('rf_global.dat',data)"
   ]
  },
  {
   "cell_type": "code",
   "execution_count": null,
   "id": "b6ec3779-3c59-4366-a15c-1baa216e304b",
   "metadata": {},
   "outputs": [],
   "source": []
  }
 ],
 "metadata": {
  "kernelspec": {
   "display_name": "Python 3 (ipykernel)",
   "language": "python",
   "name": "python3"
  },
  "language_info": {
   "codemirror_mode": {
    "name": "ipython",
    "version": 3
   },
   "file_extension": ".py",
   "mimetype": "text/x-python",
   "name": "python",
   "nbconvert_exporter": "python",
   "pygments_lexer": "ipython3",
   "version": "3.9.6"
  }
 },
 "nbformat": 4,
 "nbformat_minor": 5
}
