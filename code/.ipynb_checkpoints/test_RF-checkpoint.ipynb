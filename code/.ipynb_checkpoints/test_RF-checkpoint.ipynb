{
 "cells": [
  {
   "cell_type": "code",
   "execution_count": 84,
   "id": "f283eccb-b044-415d-9571-e7829685848b",
   "metadata": {},
   "outputs": [],
   "source": [
    "from scipy.io import loadmat\n",
    "from sklearn.ensemble import RandomForestRegressor\n",
    "from sklearn import linear_model\n",
    "from sklearn.neural_network import MLPRegressor\n",
    "from matplotlib import pyplot as plt \n",
    "from sklearn import metrics\n",
    "import matplotlib\n",
    "import numpy as np\n",
    "from sklearn.model_selection import train_test_split\n",
    "from sklearn.inspection import permutation_importance\n",
    "%matplotlib inline  "
   ]
  },
  {
   "cell_type": "code",
   "execution_count": 141,
   "id": "72bfdc25-6ffc-4a99-bd95-e28857cf6bd9",
   "metadata": {},
   "outputs": [
    {
     "name": "stdout",
     "output_type": "stream",
     "text": [
      "i = 1r2_train = 0.6753472941312118, r2_val = 0.5790924564803915\n",
      "i = 2r2_train = 0.6568314768003523, r2_val = 0.554707048172456\n",
      "i = 3r2_train = 0.5524329129126725, r2_val = 0.5603889845836032\n",
      "i = 4r2_train = 0.7263184309129604, r2_val = 0.6331487385545833\n",
      "i = 5r2_train = 0.7178665596250285, r2_val = 0.5985523836014173\n",
      "i = 6r2_train = 0.6294711237208226, r2_val = 0.5731227080164903\n",
      "i = 7r2_train = 0.6528410039241294, r2_val = 0.47364784807938687\n",
      "i = 8r2_train = 0.6444874207624419, r2_val = 0.6063915366113996\n",
      "i = 9r2_train = 0.6582119834730161, r2_val = 0.5761539825841626\n",
      "i = 10r2_train = 0.7606836516450204, r2_val = 0.6122416115445469\n",
      "i = 11r2_train = 0.6980314841776623, r2_val = 0.5311857787450236\n",
      "i = 12r2_train = 0.747081445290458, r2_val = 0.5310237342749118\n",
      "i = 13r2_train = 0.6053102410727846, r2_val = 0.5152264386525425\n",
      "i = 14r2_train = 0.5435800975060814, r2_val = 0.3892195666668154\n",
      "i = 15r2_train = 0.6895541419851889, r2_val = 0.545462274067416\n",
      "i = 16r2_train = 0.6120622552007119, r2_val = 0.5694104389372787\n"
     ]
    }
   ],
   "source": [
    "data = np.empty((16,6))\n",
    "for i in range(16):\n",
    "    x = loadmat('train' + str(i+1) + '.mat')['sX']\n",
    "    y = loadmat('train' + str(i+1) + '.mat')['sy'].ravel()\n",
    "    x = x[:,:4]\n",
    "    xtrain, xval, ytrain, yval = train_test_split(x, y, random_state=42)\n",
    "    rf = RandomForestRegressor(max_depth=3, random_state=1)\n",
    "    rf.fit(xtrain,ytrain)\n",
    "    \n",
    "    ypred    = rf.predict(xval)\n",
    "    data[i,1]   = np.sqrt(metrics.r2_score(yval, ypred))\n",
    "    ypred    = rf.predict(xtrain)\n",
    "    data[i,0] = np.sqrt(metrics.r2_score(ytrain, ypred))\n",
    "    print('i = ' + str(i+1) + 'r2_train = ' + str(data[i,0]) + ', r2_val = ' + str(data[i,1]));\n",
    "    data[i,2:] = rf.feature_importances_\n",
    "\n",
    "np.savetxt('rf_region.dat',data)"
   ]
  },
  {
   "cell_type": "code",
   "execution_count": 146,
   "id": "e81ce4c8-5248-4fcd-a268-e6cf21bb1247",
   "metadata": {},
   "outputs": [
    {
     "name": "stdout",
     "output_type": "stream",
     "text": [
      "GLOBAL: r2_train = 0.7655508795719665, r2_val = 0.6566988655914558\n"
     ]
    }
   ],
   "source": [
    "data = np.empty((6,))\n",
    "\n",
    "x = loadmat('train.mat')['X']\n",
    "y = loadmat('train.mat')['y'].ravel()\n",
    "x = x[:,:4]\n",
    "xtrain, xval, ytrain, yval = train_test_split(x, y, random_state=42)\n",
    "rf = RandomForestRegressor(max_depth=10, random_state=1)\n",
    "rf.fit(xtrain,ytrain)\n",
    "\n",
    "ypred    = rf.predict(xval)\n",
    "data[1]   = np.sqrt(metrics.r2_score(yval, ypred))\n",
    "ypred    = rf.predict(xtrain)\n",
    "data[0] = np.sqrt(metrics.r2_score(ytrain, ypred))\n",
    "print('GLOBAL: r2_train = ' + str(data[0]) + ', r2_val = ' + str(data[1]));\n",
    "data[2:] = rf.feature_importances_\n",
    "\n",
    "np.savetxt('rf_global.dat',data)"
   ]
  },
  {
   "cell_type": "code",
   "execution_count": null,
   "id": "b6ec3779-3c59-4366-a15c-1baa216e304b",
   "metadata": {},
   "outputs": [],
   "source": []
  }
 ],
 "metadata": {
  "kernelspec": {
   "display_name": "Python 3 (ipykernel)",
   "language": "python",
   "name": "python3"
  },
  "language_info": {
   "codemirror_mode": {
    "name": "ipython",
    "version": 3
   },
   "file_extension": ".py",
   "mimetype": "text/x-python",
   "name": "python",
   "nbconvert_exporter": "python",
   "pygments_lexer": "ipython3",
   "version": "3.9.6"
  }
 },
 "nbformat": 4,
 "nbformat_minor": 5
}
